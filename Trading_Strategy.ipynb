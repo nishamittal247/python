{
 "cells": [
  {
   "cell_type": "markdown",
   "id": "ecfc83f3-736a-457f-af74-362bae459d1a",
   "metadata": {},
   "source": [
    "# Load and Prepare data"
   ]
  },
  {
   "cell_type": "code",
   "execution_count": 1,
   "id": "da6d0e9d-7597-4a96-ba7d-2e7a530eb9cf",
   "metadata": {},
   "outputs": [
    {
     "name": "stderr",
     "output_type": "stream",
     "text": [
      "Failed to get ticker 'ES=F' reason: Expecting value: line 1 column 1 (char 0)\n",
      "[*********************100%***********************]  1 of 1 completed\n",
      "\n",
      "1 Failed download:\n",
      "['ES=F']: YFTzMissingError('$%ticker%: possibly delisted; no timezone found')\n"
     ]
    },
    {
     "name": "stdout",
     "output_type": "stream",
     "text": [
      "First few rows:\n",
      "Empty DataFrame\n",
      "Columns: [(Adj Close, ES=F), (Close, ES=F), (High, ES=F), (Low, ES=F), (Open, ES=F), (Volume, ES=F)]\n",
      "Index: []\n",
      "\n",
      "Last few rows:\n",
      "Empty DataFrame\n",
      "Columns: [(Adj Close, ES=F), (Close, ES=F), (High, ES=F), (Low, ES=F), (Open, ES=F), (Volume, ES=F)]\n",
      "Index: []\n"
     ]
    }
   ],
   "source": [
    "import pandas as pd\n",
    "\n",
    "# Load your data (replace with your file)\n",
    "data = pd.read_csv('es_futures_data.csv', parse_dates=['Date'])\n",
    "data.set_index('Date', inplace=True)\n",
    "\n",
    "# Ensure data is sorted chronologically\n",
    "data = data.sort_index()"
   ]
  },
  {
   "cell_type": "markdown",
   "id": "159ff117-c69d-4441-bfeb-bce45b597cb4",
   "metadata": {},
   "source": [
    "# Step 2: Define In-Sample and Out-of-Sample Periods"
   ]
  },
  {
   "cell_type": "code",
   "execution_count": null,
   "id": "bdcec3a2-59e3-4a58-ac32-9cfcb29005a2",
   "metadata": {},
   "outputs": [],
   "source": [
    "# Example: Split at January 1, 2017\n",
    "split_date = '2017-01-01'\n",
    "\n",
    "in_sample = data[data.index < split_date]\n",
    "out_sample = data[data.index >= split_date]\n"
   ]
  },
  {
   "cell_type": "markdown",
   "id": "204c6056-30d6-4922-a2ff-e67e3bebcc0e",
   "metadata": {},
   "source": [
    "# Step 3: Integrate Split into the TrendStrategy Class"
   ]
  },
  {
   "cell_type": "code",
   "execution_count": null,
   "id": "1dcc0161-c0b9-4cb0-874b-fff40f8152bf",
   "metadata": {},
   "outputs": [],
   "source": [
    "class TrendStrategy:\n",
    "    def __init__(self, data):\n",
    "        self.data = data.copy()\n",
    "        self.optimize_params = None\n",
    "\n",
    "    def calculate_indicators(self, ema_fast=50, ema_slow=200, rsi_window=14, atr_window=14):\n",
    "        \"\"\"Calculate technical indicators with parameterization\"\"\"\n",
    "        self.data['EMA_Fast'] = self.data['Close'].ewm(span=ema_fast, adjust=False).mean()\n",
    "        self.data['EMA_Slow'] = self.data['Close'].ewm(span=ema_slow, adjust=False).mean()\n",
    "        \n",
    "        delta = self.data['Close'].diff()\n",
    "        gain = delta.where(delta > 0, 0)\n",
    "        loss = -delta.where(delta < 0, 0)\n",
    "        avg_gain = gain.rolling(rsi_window).mean()\n",
    "        avg_loss = loss.rolling(rsi_window).mean()\n",
    "        rs = avg_gain / avg_loss\n",
    "        self.data['RSI'] = 100 - (100 / (1 + rs))\n",
    "        \n",
    "        high_low = self.data['High'] - self.data['Low']\n",
    "        high_close = np.abs(self.data['High'] - self.data['Close'].shift())\n",
    "        low_close = np.abs(self.data['Low'] - self.data['Close'].shift())\n",
    "        tr = pd.concat([high_low, high_close, low_close], axis=1).max(axis=1)\n",
    "        self.data['ATR'] = tr.rolling(atr_window).mean()\n",
    "        \n",
    "        lookback = 20\n",
    "        self.data['Swing_High'] = self.data['High'].rolling(lookback).max()\n",
    "        self.data['Swing_Low'] = self.data['Low'].rolling(lookback).min()\n",
    "        self.data['Fib_Extension'] = self.data['Close'] + (self.data['Swing_High'] - self.data['Swing_Low']) * 0.272\n",
    "        return self.data\n",
    "\n",
    "    def generate_signals(self, rsi_threshold=50):\n",
    "        self.data['EMA_Signal'] = np.where(self.data['EMA_Fast'] > self.data['EMA_Slow'], 1, -1)\n",
    "        self.data['RSI_Filter'] = np.where(self.data['RSI'] > rsi_threshold, 1, -1)\n",
    "        long_cond = (self.data['EMA_Signal'] == 1) & (self.data['RSI_Filter'] == 1)\n",
    "        short_cond = (self.data['EMA_Signal'] == -1) & (self.data['RSI_Filter'] == -1)\n",
    "        self.data['Signal'] = np.select([long_cond, short_cond], [1, -1], default=0)\n",
    "        return self.data\n",
    "\n",
    "    def backtest_strategy(self, atr_multiplier=1.5, risk_per_trade=0.02):\n",
    "        self.data['Position'] = 0\n",
    "        self.data['Entry_Price'] = np.nan\n",
    "        self.data['Exit_Price'] = np.nan\n",
    "        self.data['Stop_Loss'] = np.nan\n",
    "        self.data['Profit_Target'] = np.nan\n",
    "        self.data['PnL'] = 0.0\n",
    "        \n",
    "        position = 0\n",
    "        entry_price = 0\n",
    "        capital = 1_000_000  # Starting capital\n",
    "        contract_size = 50  # S&P E-mini multiplier\n",
    "        \n",
    "        for i in range(1, len(self.data)):\n",
    "            atr = self.data['ATR'].iloc[i]\n",
    "            position_size = (capital * risk_per_trade) / (atr_multiplier * atr * contract_size)\n",
    "            position_size = int(position_size)\n",
    "            \n",
    "            signal = self.data['Signal'].iloc[i]\n",
    "            \n",
    "            if signal != 0 and position == 0:\n",
    "                position = signal * position_size\n",
    "                entry_price = self.data['Close'].iloc[i]\n",
    "                sl = entry_price - (signal * atr_multiplier * atr)\n",
    "                pt = self.data['Fib_Extension'].iloc[i]\n",
    "                \n",
    "                self.data.at[self.data.index[i], 'Position'] = position\n",
    "                self.data.at[self.data.index[i], 'Entry_Price'] = entry_price\n",
    "                self.data.at[self.data.index[i], 'Stop_Loss'] = sl\n",
    "                self.data.at[self.data.index[i], 'Profit_Target'] = pt\n",
    "            \n",
    "            if position != 0:\n",
    "                current_low = self.data['Low'].iloc[i]\n",
    "                current_high = self.data['High'].iloc[i]\n",
    "                \n",
    "                if position > 0:  # Long\n",
    "                    if current_low <= self.data['Stop_Loss'].iloc[i]:\n",
    "                        exit_price = self.data['Stop_Loss'].iloc[i]\n",
    "                        pnl = (exit_price - entry_price) * position * contract_size\n",
    "                        capital += pnl\n",
    "                        position = 0\n",
    "                    elif current_high >= self.data['Profit_Target'].iloc[i]:\n",
    "                        exit_price = self.data['Profit_Target'].iloc[i]\n",
    "                        pnl = (exit_price - entry_price) * position * contract_size\n",
    "                        capital += pnl\n",
    "                        position = 0\n",
    "                else:  # Short\n",
    "                    if current_high >= self.data['Stop_Loss'].iloc[i]:\n",
    "                        exit_price = self.data['Stop_Loss'].iloc[i]\n",
    "                        pnl = (entry_price - exit_price) * abs(position) * contract_size\n",
    "                        capital += pnl\n",
    "                        position = 0\n",
    "                    elif current_low <= self.data['Profit_Target'].iloc[i]:\n",
    "                        exit_price = self.data['Profit_Target'].iloc[i]\n",
    "                        pnl = (entry_price - exit_price) * abs(position) * contract_size\n",
    "                        capital += pnl\n",
    "                        position = 0\n",
    "                \n",
    "                if position == 0:\n",
    "                    self.data.at[self.data.index[i], 'Exit_Price'] = exit_price\n",
    "                    self.data.at[self.data.index[i], 'PnL'] = pnl\n",
    "        \n",
    "        trades = self.data[self.data['PnL'] != 0].copy()\n",
    "        trades['Returns'] = trades['PnL'] / capital\n",
    "        cumulative_returns = (1 + trades['Returns']).cumprod()\n",
    "        \n",
    "        performance = {\n",
    "            'total_return': trades['PnL'].sum(),\n",
    "            'sharpe_ratio': self._calculate_sharpe(trades['Returns']),\n",
    "            'max_drawdown': self._calculate_max_drawdown(cumulative_returns),\n",
    "            'win_rate': len(trades[trades['PnL'] > 0]) / len(trades) if len(trades) > 0 else 0,\n",
    "            'profit_factor': trades[trades['PnL'] > 0]['PnL'].sum() / abs(trades[trades['PnL'] < 0]['PnL'].sum()) if len(trades) > 0 else 0\n",
    "        }\n",
    "        return performance, self.data\n",
    "\n",
    "    def _calculate_sharpe(self, returns, risk_free=0.0):\n",
    "        excess_returns = returns - risk_free\n",
    "        return excess_returns.mean() / excess_returns.std() if excess_returns.std() != 0 else 0\n",
    "\n",
    "    def _calculate_max_drawdown(self, cumulative_returns):\n",
    "        peak = cumulative_returns.expanding(min_periods=1).max()\n",
    "        dd = (cumulative_returns - peak) / peak\n",
    "        return dd.min()\n",
    "\n",
    "    def optimize_parameters(self, ema_range=(30, 100), rsi_range=(10, 30), atr_mult_range=(1, 3)):\n",
    "        \"\"\"Parameter optimization using brute force method (on in-sample data)\"\"\"\n",
    "        def objective(params):\n",
    "            ema_fast, ema_slow, rsi_window, atr_mult = params\n",
    "            self.calculate_indicators(int(ema_fast), int(ema_slow), int(rsi_window))\n",
    "            self.generate_signals()\n",
    "            perf, _ = self.backtest_strategy(atr_mult)\n",
    "            return -perf['sharpe_ratio']  # Minimize negative Sharpe\n",
    "        \n",
    "        optimization = brute(\n",
    "            objective,\n",
    "            (ema_range, (150, 250), rsi_range, atr_mult_range),\n",
    "            finish=None\n",
    "        )\n",
    "        \n",
    "        self.optimize_params = {\n",
    "            'ema_fast': int(optimization[0]),\n",
    "            'ema_slow': int(optimization[1]),\n",
    "            'rsi_window': int(optimization[2]),\n",
    "            'atr_multiplier': optimization[3]\n",
    "        }\n",
    "        return self.optimize_params\n"
   ]
  },
  {
   "cell_type": "markdown",
   "id": "ba693690-e637-47d9-98e5-173f1d02aead",
   "metadata": {},
   "source": [
    "# Step 4: Run In-Sample, Optimize, and Out-of-Sample Test"
   ]
  },
  {
   "cell_type": "code",
   "execution_count": null,
   "id": "e27d0e87-6a7a-4eb3-a621-0017c8e20804",
   "metadata": {},
   "outputs": [],
   "source": [
    "# Initialize in-sample strategy\n",
    "in_sample_strategy = TrendStrategy(in_sample)\n",
    "\n",
    "# Optimize parameters on in-sample data\n",
    "opt_params = in_sample_strategy.optimize_parameters()\n",
    "print(f\"Optimized Parameters: {opt_params}\")\n",
    "\n",
    "# Run backtest on in-sample with optimized parameters\n",
    "in_sample_strategy.calculate_indicators(**opt_params)\n",
    "in_sample_strategy.generate_signals()\n",
    "in_sample_perf, in_sample_results = in_sample_strategy.backtest_strategy(opt_params['atr_multiplier'])\n",
    "print(\"\\nIn-Sample Performance:\")\n",
    "for k, v in in_sample_perf.items():\n",
    "    print(f\"{k:15}: {v:.4f}\")\n",
    "\n",
    "# Initialize out-of-sample strategy with optimized parameters\n",
    "out_sample_strategy = TrendStrategy(out_sample)\n",
    "out_sample_strategy.calculate_indicators(**opt_params)\n",
    "out_sample_strategy.generate_signals()\n",
    "out_sample_perf, out_sample_results = out_sample_strategy.backtest_strategy(opt_params['atr_multiplier'])\n",
    "print(\"\\nOut-of-Sample Performance:\")\n",
    "for k, v in out_sample_perf.items():\n",
    "    print(f\"{k:15}: {v:.4f}\")\n"
   ]
  },
  {
   "cell_type": "markdown",
   "id": "1dfe8716-8ea7-4ff4-ad76-f12a9ac815a5",
   "metadata": {},
   "source": [
    "# Step 5: Plot Results"
   ]
  },
  {
   "cell_type": "code",
   "execution_count": null,
   "id": "4d3918c7-1aec-42d7-859b-494862a210fe",
   "metadata": {},
   "outputs": [],
   "source": [
    "import matplotlib.pyplot as plt\n",
    "\n",
    "plt.figure(figsize=(14, 7))\n",
    "plt.title('In-Sample vs Out-of-Sample Equity Curves')\n",
    "plt.plot(in_sample_results.index, (1 + in_sample_results['PnL'].cumsum() / 1_000_000), label='In-Sample')\n",
    "plt.plot(out_sample_results.index, (1 + out_sample_results['PnL'].cumsum() / 1_000_000), label='Out-of-Sample')\n",
    "plt.legend()\n",
    "plt.show()\n"
   ]
  },
  {
   "cell_type": "code",
   "execution_count": null,
   "id": "cc8459fd-d0fa-4b74-9800-e0b3295edb0b",
   "metadata": {},
   "outputs": [],
   "source": []
  },
  {
   "cell_type": "code",
   "execution_count": null,
   "id": "f955cc35-0be1-4b7f-8796-6dc668b27953",
   "metadata": {},
   "outputs": [],
   "source": []
  },
  {
   "cell_type": "code",
   "execution_count": null,
   "id": "2638ee67-db6a-43ed-aadf-f7524e05c99f",
   "metadata": {},
   "outputs": [],
   "source": []
  },
  {
   "cell_type": "code",
   "execution_count": null,
   "id": "fa0996c3-7067-45f7-b54b-7fc863cb8abf",
   "metadata": {},
   "outputs": [],
   "source": []
  },
  {
   "cell_type": "code",
   "execution_count": null,
   "id": "13bd5ccc-6cd0-46ff-ad9e-b22565deedac",
   "metadata": {},
   "outputs": [],
   "source": []
  }
 ],
 "metadata": {
  "kernelspec": {
   "display_name": "Python 3 (ipykernel)",
   "language": "python",
   "name": "python3"
  },
  "language_info": {
   "codemirror_mode": {
    "name": "ipython",
    "version": 3
   },
   "file_extension": ".py",
   "mimetype": "text/x-python",
   "name": "python",
   "nbconvert_exporter": "python",
   "pygments_lexer": "ipython3",
   "version": "3.12.2"
  }
 },
 "nbformat": 4,
 "nbformat_minor": 5
}
